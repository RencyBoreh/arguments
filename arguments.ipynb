{
 "cells": [
  {
   "cell_type": "code",
   "execution_count": 12,
   "id": "1193a396-0400-4ed6-8ba3-7733cc199ba2",
   "metadata": {},
   "outputs": [
    {
     "name": "stdout",
     "output_type": "stream",
     "text": [
      "Happy Birthdat:RencyBoreh\n"
     ]
    }
   ],
   "source": [
    "#we have default arg,keyword arg,positional,arbitary\n",
    "#positional argumnets\n",
    "def names(first,last):\n",
    "     print(f\"Happy Birthdat:{first}{last}\")\n",
    "names(\"Rency\",\"Boreh\")\n",
    "    "
   ]
  },
  {
   "cell_type": "code",
   "execution_count": 20,
   "id": "9e8c3142-a6f5-42dc-aa17-8be56e5870e6",
   "metadata": {},
   "outputs": [
    {
     "name": "stdout",
     "output_type": "stream",
     "text": [
      "Hello Ren.You have 20 years\n"
     ]
    }
   ],
   "source": [
    "#default arguments is a default value for certain parameters .\n",
    "#its is used that arg is omitted and makes the function more flexible\n",
    "#it also reduces nmber of arguments\n",
    "def details(name,age=20):\n",
    "    print(f\"Hello {name}.You have {age} years\")\n",
    "details(\"Ren\")"
   ]
  },
  {
   "cell_type": "code",
   "execution_count": 22,
   "id": "54df7109-05ca-4bbb-a0c3-a8a2fef9c41c",
   "metadata": {},
   "outputs": [
    {
     "name": "stdout",
     "output_type": "stream",
     "text": [
      "Happy Birthday Rency.This is 2024 and you turn 21 years old!\n"
     ]
    }
   ],
   "source": [
    "#keyword args proceeded by an identifier .\n",
    "#it helps with readability \n",
    "#order of arg does not matter\n",
    "def det(name,age,year):\n",
    "    print(f\"Happy Birthday {name}.This is {year} and you turn {age} years old!\")\n",
    "det(year=2024,name=\"Rency\",age=21)"
   ]
  },
  {
   "cell_type": "code",
   "execution_count": 48,
   "id": "dad42271-1d94-47cf-b597-70b8783acbc2",
   "metadata": {},
   "outputs": [
    {
     "name": "stdout",
     "output_type": "stream",
     "text": [
      "14\n"
     ]
    }
   ],
   "source": [
    "#Arbitary argumnets allows to pass multiple non-keywords\n",
    "#*args-means arguments\n",
    "def detail(*args):\n",
    "    total=0\n",
    "    for arg in args:\n",
    "        total+=arg\n",
    "    return total\n",
    "print(detail(7,4,3))\n",
    "        "
   ]
  },
  {
   "cell_type": "code",
   "execution_count": null,
   "id": "2ce384b1-31e2-4d64-828b-42c298d3b690",
   "metadata": {},
   "outputs": [],
   "source": []
  }
 ],
 "metadata": {
  "kernelspec": {
   "display_name": "Python 3 (ipykernel)",
   "language": "python",
   "name": "python3"
  },
  "language_info": {
   "codemirror_mode": {
    "name": "ipython",
    "version": 3
   },
   "file_extension": ".py",
   "mimetype": "text/x-python",
   "name": "python",
   "nbconvert_exporter": "python",
   "pygments_lexer": "ipython3",
   "version": "3.12.4"
  }
 },
 "nbformat": 4,
 "nbformat_minor": 5
}
